{
 "cells": [
  {
   "cell_type": "code",
   "execution_count": 8,
   "id": "1de7f490",
   "metadata": {},
   "outputs": [],
   "source": [
    "# Importing Qiskit\n",
    "from qiskit import *"
   ]
  },
  {
   "cell_type": "code",
   "execution_count": 9,
   "id": "73e88a65",
   "metadata": {},
   "outputs": [],
   "source": [
    "# Creating Quantum and Classical Registers\n",
    "quantum_register= QuantumRegister(2)\n",
    "classical_register= ClassicalRegister(2)"
   ]
  },
  {
   "cell_type": "code",
   "execution_count": 10,
   "id": "6535a078",
   "metadata": {},
   "outputs": [],
   "source": [
    "# Creating a Quantum Circuit\n",
    "quantum_circuit= QuantumCircuit(quantum_register, classical_register)"
   ]
  },
  {
   "cell_type": "code",
   "execution_count": 11,
   "id": "251ac6d6",
   "metadata": {},
   "outputs": [
    {
     "data": {
      "image/png": "[encoded data removed]",
      "text/plain": [
       "<Figure size 129.823x204.68 with 1 Axes>"
      ]
     },
     "execution_count": 11,
     "metadata": {},
     "output_type": "execute_result"
    }
   ],
   "source": [
    "# To view the circuit\n",
    "quantum_circuit.draw()"
   ]
  },
  {
   "cell_type": "code",
   "execution_count": 12,
   "id": "9c0aeaf6",
   "metadata": {},
   "outputs": [
    {
     "data": {
      "image/png": "[encoded data removed]",
      "text/plain": [
       "<Figure size 159.923x204.68 with 1 Axes>"
      ]
     },
     "execution_count": 12,
     "metadata": {},
     "output_type": "execute_result"
    }
   ],
   "source": [
    "# Adding X Gate to the circuit\n",
    "# The 0 indicates the 'q0' register\n",
    "quantum_circuit.cx(0,1)\n",
    "\n",
    "# Draw the circuit again\n",
    "quantum_circuit.draw()"
   ]
  },
  {
   "cell_type": "code",
   "execution_count": 13,
   "id": "52dc95aa",
   "metadata": {},
   "outputs": [
    {
     "data": {
      "image/png": "[encoded data removed]",
      "text/plain": [
       "<Figure size 220.123x204.68 with 1 Axes>"
      ]
     },
     "execution_count": 13,
     "metadata": {},
     "output_type": "execute_result"
    }
   ],
   "source": [
    "# Now we have to measure this to see how the gate works\n",
    "# 0,0 defines quantum register 0 (q0) to classical register 0 (c0)\n",
    "quantum_circuit.measure(0,0)\n",
    "quantum_circuit.draw()"
   ]
  },
  {
   "cell_type": "code",
   "execution_count": 14,
   "id": "7a878c9e",
   "metadata": {},
   "outputs": [
    {
     "name": "stdout",
     "output_type": "stream",
     "text": [
      "Result(backend_name='qasm_simulator', backend_version='0.10.4', qobj_id='36ad72c5-1450-4a50-90b7-4fccf0e8264c', job_id='1010a433-416d-4ac0-9e29-03aa9bced8c5', success=True, results=[ExperimentResult(shots=1024, success=True, meas_level=2, data=ExperimentResultData(counts={'0x0': 1024}), header=QobjExperimentHeader(clbit_labels=[['c2', 0], ['c2', 1]], creg_sizes=[['c2', 2]], global_phase=0.0, memory_slots=2, metadata={}, n_qubits=2, name='circuit-79', qreg_sizes=[['q2', 2]], qubit_labels=[['q2', 0], ['q2', 1]]), status=DONE, seed_simulator=3030630519, metadata={'noise': 'ideal', 'batched_shots_optimization': False, 'remapped_qubits': False, 'parallel_state_update': 8, 'parallel_shots': 1, 'device': 'CPU', 'active_input_qubits': [0, 1], 'measure_sampling': True, 'num_clbits': 2, 'input_qubit_map': [[1, 1], [0, 0]], 'num_qubits': 2, 'method': 'stabilizer', 'fusion': {'enabled': False}}, time_taken=0.003320041)], date=2022-08-09T15:52:31.158556, status=COMPLETED, header=QobjHeader(backend_name='qasm_simulator', backend_version='0.10.4'), metadata={'mpi_rank': 0, 'time_taken': 0.003609375, 'max_gpu_memory_mb': 0, 'time_taken_execute': 0.003333125, 'max_memory_mb': 8192, 'time_taken_load_qobj': 0.000258042, 'parallel_experiments': 1, 'num_mpi_processes': 1, 'omp_enabled': True}, time_taken=0.0037381649017333984)\n"
     ]
    }
   ],
   "source": [
    "# As we can see, the circuit now has a X Gate. We can now measure the qubit at the quantum register.\n",
    "# For this we have two methods, AER(quantum computer simulator) and IBM (IBM's quantum computer)\n",
    "from qiskit.providers.aer import QasmSimulator\n",
    "backend= QasmSimulator()\n",
    "job = backend.run(quantum_circuit,shots=1024)\n",
    "result = job.result()\n",
    "print(result)"
   ]
  },
  {
   "cell_type": "code",
   "execution_count": 15,
   "id": "c0d7ca22",
   "metadata": {},
   "outputs": [
    {
     "data": {
      "image/png": "[encoded data removed]",
      "text/plain": [
       "<Figure size 504x360 with 1 Axes>"
      ]
     },
     "execution_count": 15,
     "metadata": {},
     "output_type": "execute_result"
    }
   ],
   "source": [
    "# We can plot a histogram to see the values\n",
    "from qiskit.visualization import plot_histogram\n",
    "counts = result.get_counts(quantum_circuit)\n",
    "plot_histogram(counts)"
   ]
  },
  {
   "cell_type": "code",
   "execution_count": 16,
   "id": "5b3c9508",
   "metadata": {},
   "outputs": [
    {
     "name": "stdout",
     "output_type": "stream",
     "text": [
      "{'00': 1024}\n"
     ]
    }
   ],
   "source": [
    "# Let us see the counts\n",
    "print(counts)"
   ]
  },
  {
   "cell_type": "code",
   "execution_count": 17,
   "id": "320fc7f1",
   "metadata": {},
   "outputs": [],
   "source": [
    "# All the tries have turned out to be 1, so the X Gate worked. The input 0 is turned into 1."
   ]
  },
  {
   "cell_type": "code",
   "execution_count": 18,
   "id": "bd6a66b1",
   "metadata": {},
   "outputs": [],
   "source": [
    "# Now let us see the working of this circuit on a real quantum machine.\n",
    "# Note: You need to create an IBMQ account before proceeding.\n",
    "from qiskit import IBMQ\n",
    "\n",
    "# This step is for first time users.\n",
    "# 'IBMQ.save_account(TOKEN)'\n",
    "# For this token, visit https://quantum-computing.ibm.com/ create an account with any email id\n",
    "# and login to view the token and copy it."
   ]
  },
  {
   "cell_type": "code",
   "execution_count": 19,
   "id": "4a7d9ec8",
   "metadata": {},
   "outputs": [
    {
     "name": "stdout",
     "output_type": "stream",
     "text": [
      "['ibmq_qasm_simulator', 'ibmq_lima', 'ibmq_belem', 'ibmq_quito', 'simulator_statevector', 'simulator_mps', 'simulator_extended_stabilizer', 'simulator_stabilizer', 'ibmq_manila', 'ibm_nairobi', 'ibm_oslo']\n"
     ]
    }
   ],
   "source": [
    "# This step is after you have created and saved your account.\n",
    "IBMQ.load_account()\n",
    "\n",
    "# To view all the poviders\n",
    "print([backend.name() for backend in IBMQ.providers()[0].backends()])"
   ]
  },
  {
   "cell_type": "code",
   "execution_count": 20,
   "id": "66407ae3",
   "metadata": {},
   "outputs": [
    {
     "name": "stdout",
     "output_type": "stream",
     "text": [
      "Job Status: job has successfully run\n"
     ]
    }
   ],
   "source": [
    "# We can select any provider, but ibmq_manila will work.\n",
    "from qiskit.tools.monitor import job_monitor\n",
    "provider = IBMQ.get_provider(hub = 'ibm-q',group = 'open',project='main')\n",
    "backend = provider.get_backend('ibmq_lima')\n",
    "job = execute(quantum_circuit, backend=backend, shots=100)\n",
    "job_monitor(job)\n",
    "results = job.result()"
   ]
  },
  {
   "cell_type": "code",
   "execution_count": 21,
   "id": "bdb056bd",
   "metadata": {},
   "outputs": [
    {
     "data": {
      "image/png": "[encoded data removed]",
      "text/plain": [
       "<Figure size 504x360 with 1 Axes>"
      ]
     },
     "execution_count": 21,
     "metadata": {},
     "output_type": "execute_result"
    }
   ],
   "source": [
    "# Plot histogram of the outputs recieved.\n",
    "counts = results.get_counts(quantum_circuit)\n",
    "plot_histogram(counts)"
   ]
  },
  {
   "cell_type": "code",
   "execution_count": null,
   "id": "20c36afc",
   "metadata": {},
   "outputs": [],
   "source": []
  }
 ],
 "metadata": {
  "interpreter": {
   "hash": "37a42aaa31cc67f1bd04bce9cdd9af29f0bea779c6cd9677f08a81b83d4d2488"
  },
  "kernelspec": {
   "display_name": "Python 3 (ipykernel)",
   "language": "python",
   "name": "python3"
  },
  "language_info": {
   "codemirror_mode": {
    "name": "ipython",
    "version": 3
   },
   "file_extension": ".py",
   "mimetype": "text/x-python",
   "name": "python",
   "nbconvert_exporter": "python",
   "pygments_lexer": "ipython3",
   "version": "3.10.4"
  }
 },
 "nbformat": 4,
 "nbformat_minor": 5
}
