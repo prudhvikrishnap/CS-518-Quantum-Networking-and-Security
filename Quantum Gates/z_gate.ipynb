{
 "cells": [
  {
   "cell_type": "code",
   "execution_count": 1,
   "id": "1de7f490",
   "metadata": {},
   "outputs": [
    {
     "ename": "ImportError",
     "evalue": "dlopen(/Library/Frameworks/Python.framework/Versions/3.10/lib/python3.10/site-packages/tweedledum/_tweedledum.cpython-310-darwin.so, 0x0002): tried: '/Library/Frameworks/Python.framework/Versions/3.10/lib/python3.10/site-packages/tweedledum/_tweedledum.cpython-310-darwin.so' (mach-o file, but is an incompatible architecture (have 'x86_64', need 'arm64e'))",
     "output_type": "error",
     "traceback": [
      "\u001b[0;31m---------------------------------------------------------------------------\u001b[0m",
      "\u001b[0;31mImportError\u001b[0m                               Traceback (most recent call last)",
      "Input \u001b[0;32mIn [1]\u001b[0m, in \u001b[0;36m<module>\u001b[0;34m\u001b[0m\n\u001b[1;32m      1\u001b[0m \u001b[38;5;66;03m# Importing Qiskit\u001b[39;00m\n\u001b[0;32m----> 2\u001b[0m \u001b[38;5;28;01mfrom\u001b[39;00m \u001b[38;5;21;01mqiskit\u001b[39;00m \u001b[38;5;28;01mimport\u001b[39;00m \u001b[38;5;241m*\u001b[39m\n",
      "File \u001b[0;32m/Library/Frameworks/Python.framework/Versions/3.10/lib/python3.10/site-packages/qiskit/__init__.py:47\u001b[0m, in \u001b[0;36m<module>\u001b[0;34m\u001b[0m\n\u001b[1;32m     44\u001b[0m \u001b[38;5;28;01mfrom\u001b[39;00m \u001b[38;5;21;01mqiskit\u001b[39;00m\u001b[38;5;21;01m.\u001b[39;00m\u001b[38;5;21;01mexceptions\u001b[39;00m \u001b[38;5;28;01mimport\u001b[39;00m QiskitError, MissingOptionalLibraryError\n\u001b[1;32m     46\u001b[0m \u001b[38;5;66;03m# The main qiskit operators\u001b[39;00m\n\u001b[0;32m---> 47\u001b[0m \u001b[38;5;28;01mfrom\u001b[39;00m \u001b[38;5;21;01mqiskit\u001b[39;00m\u001b[38;5;21;01m.\u001b[39;00m\u001b[38;5;21;01mcircuit\u001b[39;00m \u001b[38;5;28;01mimport\u001b[39;00m ClassicalRegister\n\u001b[1;32m     48\u001b[0m \u001b[38;5;28;01mfrom\u001b[39;00m \u001b[38;5;21;01mqiskit\u001b[39;00m\u001b[38;5;21;01m.\u001b[39;00m\u001b[38;5;21;01mcircuit\u001b[39;00m \u001b[38;5;28;01mimport\u001b[39;00m QuantumRegister\n\u001b[1;32m     49\u001b[0m \u001b[38;5;28;01mfrom\u001b[39;00m \u001b[38;5;21;01mqiskit\u001b[39;00m\u001b[38;5;21;01m.\u001b[39;00m\u001b[38;5;21;01mcircuit\u001b[39;00m \u001b[38;5;28;01mimport\u001b[39;00m AncillaRegister\n",
      "File \u001b[0;32m/Library/Frameworks/Python.framework/Versions/3.10/lib/python3.10/site-packages/qiskit/circuit/__init__.py:244\u001b[0m, in \u001b[0;36m<module>\u001b[0;34m\u001b[0m\n\u001b[1;32m    242\u001b[0m \u001b[38;5;28;01mfrom\u001b[39;00m \u001b[38;5;21;01m.\u001b[39;00m\u001b[38;5;21;01mquantumcircuitdata\u001b[39;00m \u001b[38;5;28;01mimport\u001b[39;00m CircuitInstruction\n\u001b[1;32m    243\u001b[0m \u001b[38;5;28;01mfrom\u001b[39;00m \u001b[38;5;21;01m.\u001b[39;00m\u001b[38;5;21;01mequivalence\u001b[39;00m \u001b[38;5;28;01mimport\u001b[39;00m EquivalenceLibrary\n\u001b[0;32m--> 244\u001b[0m \u001b[38;5;28;01mfrom\u001b[39;00m \u001b[38;5;21;01m.\u001b[39;00m\u001b[38;5;21;01mclassicalfunction\u001b[39;00m\u001b[38;5;21;01m.\u001b[39;00m\u001b[38;5;21;01mtypes\u001b[39;00m \u001b[38;5;28;01mimport\u001b[39;00m Int1, Int2\n\u001b[1;32m    245\u001b[0m \u001b[38;5;28;01mfrom\u001b[39;00m \u001b[38;5;21;01m.\u001b[39;00m\u001b[38;5;21;01mclassicalfunction\u001b[39;00m \u001b[38;5;28;01mimport\u001b[39;00m classical_function, BooleanExpression\n\u001b[1;32m    247\u001b[0m \u001b[38;5;28;01mfrom\u001b[39;00m \u001b[38;5;21;01m.\u001b[39;00m\u001b[38;5;21;01mcontrolflow\u001b[39;00m \u001b[38;5;28;01mimport\u001b[39;00m (\n\u001b[1;32m    248\u001b[0m     ControlFlowOp,\n\u001b[1;32m    249\u001b[0m     WhileLoopOp,\n\u001b[0;32m   (...)\u001b[0m\n\u001b[1;32m    253\u001b[0m     ContinueLoopOp,\n\u001b[1;32m    254\u001b[0m )\n",
      "File \u001b[0;32m/Library/Frameworks/Python.framework/Versions/3.10/lib/python3.10/site-packages/qiskit/circuit/classicalfunction/__init__.py:98\u001b[0m, in \u001b[0;36m<module>\u001b[0;34m\u001b[0m\n\u001b[1;32m      1\u001b[0m \u001b[38;5;66;03m# This code is part of Qiskit.\u001b[39;00m\n\u001b[1;32m      2\u001b[0m \u001b[38;5;66;03m#\u001b[39;00m\n\u001b[1;32m      3\u001b[0m \u001b[38;5;66;03m# (C) Copyright IBM 2020.\u001b[39;00m\n\u001b[0;32m   (...)\u001b[0m\n\u001b[1;32m     10\u001b[0m \u001b[38;5;66;03m# copyright notice, and modified files need to carry a notice indicating\u001b[39;00m\n\u001b[1;32m     11\u001b[0m \u001b[38;5;66;03m# that they have been altered from the originals.\u001b[39;00m\n\u001b[1;32m     12\u001b[0m \u001b[38;5;124;03m\"\"\"\u001b[39;00m\n\u001b[1;32m     13\u001b[0m \u001b[38;5;124;03m====================================================================\u001b[39;00m\n\u001b[1;32m     14\u001b[0m \u001b[38;5;124;03mClassicalFunction compiler (:mod:`qiskit.circuit.classicalfunction`)\u001b[39;00m\n\u001b[0;32m   (...)\u001b[0m\n\u001b[1;32m     96\u001b[0m \n\u001b[1;32m     97\u001b[0m \u001b[38;5;124;03m\"\"\"\u001b[39;00m\n\u001b[0;32m---> 98\u001b[0m \u001b[38;5;28;01mfrom\u001b[39;00m \u001b[38;5;21;01m.\u001b[39;00m\u001b[38;5;21;01mclassicalfunction\u001b[39;00m \u001b[38;5;28;01mimport\u001b[39;00m ClassicalFunction\n\u001b[1;32m     99\u001b[0m \u001b[38;5;28;01mfrom\u001b[39;00m \u001b[38;5;21;01m.\u001b[39;00m\u001b[38;5;21;01mexceptions\u001b[39;00m \u001b[38;5;28;01mimport\u001b[39;00m (\n\u001b[1;32m    100\u001b[0m     ClassicalFunctionParseError,\n\u001b[1;32m    101\u001b[0m     ClassicalFunctionCompilerError,\n\u001b[1;32m    102\u001b[0m     ClassicalFunctionCompilerTypeError,\n\u001b[1;32m    103\u001b[0m )\n\u001b[1;32m    104\u001b[0m \u001b[38;5;28;01mfrom\u001b[39;00m \u001b[38;5;21;01m.\u001b[39;00m\u001b[38;5;21;01mboolean_expression\u001b[39;00m \u001b[38;5;28;01mimport\u001b[39;00m BooleanExpression\n",
      "File \u001b[0;32m/Library/Frameworks/Python.framework/Versions/3.10/lib/python3.10/site-packages/qiskit/circuit/classicalfunction/classicalfunction.py:18\u001b[0m, in \u001b[0;36m<module>\u001b[0;34m\u001b[0m\n\u001b[1;32m     15\u001b[0m \u001b[38;5;28;01mimport\u001b[39;00m \u001b[38;5;21;01mast\u001b[39;00m\n\u001b[1;32m     16\u001b[0m \u001b[38;5;28;01mfrom\u001b[39;00m \u001b[38;5;21;01mtyping\u001b[39;00m \u001b[38;5;28;01mimport\u001b[39;00m Callable, Optional\n\u001b[0;32m---> 18\u001b[0m \u001b[38;5;28;01mfrom\u001b[39;00m \u001b[38;5;21;01mtweedledum\u001b[39;00m\u001b[38;5;21;01m.\u001b[39;00m\u001b[38;5;21;01mclassical\u001b[39;00m \u001b[38;5;28;01mimport\u001b[39;00m simulate\n\u001b[1;32m     19\u001b[0m \u001b[38;5;28;01mfrom\u001b[39;00m \u001b[38;5;21;01mtweedledum\u001b[39;00m\u001b[38;5;21;01m.\u001b[39;00m\u001b[38;5;21;01msynthesis\u001b[39;00m \u001b[38;5;28;01mimport\u001b[39;00m pkrm_synth\n\u001b[1;32m     21\u001b[0m \u001b[38;5;28;01mfrom\u001b[39;00m \u001b[38;5;21;01mqiskit\u001b[39;00m\u001b[38;5;21;01m.\u001b[39;00m\u001b[38;5;21;01mcircuit\u001b[39;00m \u001b[38;5;28;01mimport\u001b[39;00m QuantumCircuit, QuantumRegister\n",
      "File \u001b[0;32m/Library/Frameworks/Python.framework/Versions/3.10/lib/python3.10/site-packages/tweedledum/__init__.py:5\u001b[0m, in \u001b[0;36m<module>\u001b[0;34m\u001b[0m\n\u001b[1;32m      1\u001b[0m \u001b[38;5;66;03m#-------------------------------------------------------------------------------\u001b[39;00m\n\u001b[1;32m      2\u001b[0m \u001b[38;5;66;03m# Part of Tweedledum Project.  This file is distributed under the MIT License.\u001b[39;00m\n\u001b[1;32m      3\u001b[0m \u001b[38;5;66;03m# See accompanying file /LICENSE for details.\u001b[39;00m\n\u001b[1;32m      4\u001b[0m \u001b[38;5;66;03m#-------------------------------------------------------------------------------\u001b[39;00m\n\u001b[0;32m----> 5\u001b[0m \u001b[38;5;28;01mfrom\u001b[39;00m \u001b[38;5;21;01m.\u001b[39;00m\u001b[38;5;21;01m_tweedledum\u001b[39;00m \u001b[38;5;28;01mimport\u001b[39;00m \u001b[38;5;241m*\u001b[39m\n\u001b[1;32m      6\u001b[0m \u001b[38;5;28;01mfrom\u001b[39;00m \u001b[38;5;21;01m.\u001b[39;00m\u001b[38;5;21;01mbool_function_compiler\u001b[39;00m \u001b[38;5;28;01mimport\u001b[39;00m \u001b[38;5;241m*\u001b[39m\n",
      "\u001b[0;31mImportError\u001b[0m: dlopen(/Library/Frameworks/Python.framework/Versions/3.10/lib/python3.10/site-packages/tweedledum/_tweedledum.cpython-310-darwin.so, 0x0002): tried: '/Library/Frameworks/Python.framework/Versions/3.10/lib/python3.10/site-packages/tweedledum/_tweedledum.cpython-310-darwin.so' (mach-o file, but is an incompatible architecture (have 'x86_64', need 'arm64e'))"
     ]
    }
   ],
   "source": [
    "# Importing Qiskit\n",
    "from qiskit import *"
   ]
  },
  {
   "cell_type": "code",
   "execution_count": 2,
   "id": "73e88a65",
   "metadata": {},
   "outputs": [],
   "source": [
    "# Creating Quantum and Classical Registers\n",
    "quantum_register= QuantumRegister(1)\n",
    "classical_register= ClassicalRegister(1)"
   ]
  },
  {
   "cell_type": "code",
   "execution_count": 3,
   "id": "6535a078",
   "metadata": {},
   "outputs": [],
   "source": [
    "# Creating a Quantum Circuit\n",
    "quantum_circuit= QuantumCircuit(quantum_register, classical_register)"
   ]
  },
  {
   "cell_type": "code",
   "execution_count": 4,
   "id": "251ac6d6",
   "metadata": {},
   "outputs": [
    {
     "data": {
      "image/png": "[encoded data removed]",
      "text/plain": [
       "<Figure size 116.407x144.48 with 1 Axes>"
      ]
     },
     "execution_count": 4,
     "metadata": {},
     "output_type": "execute_result"
    }
   ],
   "source": [
    "# To view the circuit\n",
    "quantum_circuit.draw()"
   ]
  },
  {
   "cell_type": "code",
   "execution_count": 5,
   "id": "9c0aeaf6",
   "metadata": {},
   "outputs": [
    {
     "data": {
      "image/png": "[encoded data removed]",
      "text/plain": [
       "<Figure size 146.507x144.48 with 1 Axes>"
      ]
     },
     "execution_count": 5,
     "metadata": {},
     "output_type": "execute_result"
    }
   ],
   "source": [
    "# Adding X Gate to the circuit\n",
    "# The 0 indicates the 'q0' register\n",
    "quantum_circuit.z(0)\n",
    "\n",
    "# Draw the circuit again\n",
    "quantum_circuit.draw()"
   ]
  },
  {
   "cell_type": "code",
   "execution_count": 6,
   "id": "52dc95aa",
   "metadata": {},
   "outputs": [
    {
     "data": {
      "image/png": "[encoded data removed]",
      "text/plain": [
       "<Figure size 206.707x144.48 with 1 Axes>"
      ]
     },
     "execution_count": 6,
     "metadata": {},
     "output_type": "execute_result"
    }
   ],
   "source": [
    "# Now we have to measure this to see how the gate works\n",
    "# 0,0 defines quantum register 0 (q0) to classical register 0 (c0)\n",
    "quantum_circuit.measure(0,0)\n",
    "quantum_circuit.draw()"
   ]
  },
  {
   "cell_type": "code",
   "execution_count": 7,
   "id": "7a878c9e",
   "metadata": {},
   "outputs": [
    {
     "name": "stdout",
     "output_type": "stream",
     "text": [
      "Result(backend_name='qasm_simulator', backend_version='0.10.4', qobj_id='2e764feb-32b6-4bad-b361-3754e9cf106c', job_id='d226a168-417b-45eb-bb66-03151fa7b192', success=True, results=[ExperimentResult(shots=1024, success=True, meas_level=2, data=ExperimentResultData(counts={'0x0': 1024}), header=QobjExperimentHeader(clbit_labels=[['c0', 0]], creg_sizes=[['c0', 1]], global_phase=0.0, memory_slots=1, metadata={}, n_qubits=1, name='circuit-78', qreg_sizes=[['q0', 1]], qubit_labels=[['q0', 0]]), status=DONE, seed_simulator=2395687916, metadata={'noise': 'ideal', 'batched_shots_optimization': False, 'remapped_qubits': False, 'parallel_state_update': 8, 'parallel_shots': 1, 'device': 'CPU', 'active_input_qubits': [0], 'measure_sampling': True, 'num_clbits': 1, 'input_qubit_map': [[0, 0]], 'num_qubits': 1, 'method': 'stabilizer', 'fusion': {'enabled': False}}, time_taken=0.003258167)], date=2022-07-27T11:25:49.000849, status=COMPLETED, header=QobjHeader(backend_name='qasm_simulator', backend_version='0.10.4'), metadata={'mpi_rank': 0, 'time_taken': 0.003359833, 'max_gpu_memory_mb': 0, 'time_taken_execute': 0.003269958, 'max_memory_mb': 8192, 'time_taken_load_qobj': 7.7666e-05, 'parallel_experiments': 1, 'num_mpi_processes': 1, 'omp_enabled': True}, time_taken=0.003470897674560547)\n"
     ]
    }
   ],
   "source": [
    "# As we can see, the circuit now has a X Gate. We can now measure the qubit at the quantum register.\n",
    "# For this we have two methods, AER(quantum computer simulator) and IBM (IBM's quantum computer)\n",
    "from qiskit.providers.aer import QasmSimulator\n",
    "backend= QasmSimulator()\n",
    "job = backend.run(quantum_circuit,shots=1024)\n",
    "result = job.result()\n",
    "print(result)"
   ]
  },
  {
   "cell_type": "code",
   "execution_count": 8,
   "id": "c0d7ca22",
   "metadata": {},
   "outputs": [
    {
     "data": {
      "image/png": "[encoded data removed]",
      "text/plain": [
       "<Figure size 504x360 with 1 Axes>"
      ]
     },
     "execution_count": 8,
     "metadata": {},
     "output_type": "execute_result"
    }
   ],
   "source": [
    "# We can plot a histogram to see the values\n",
    "from qiskit.visualization import plot_histogram\n",
    "counts = result.get_counts(quantum_circuit)\n",
    "plot_histogram(counts)"
   ]
  },
  {
   "cell_type": "code",
   "execution_count": 9,
   "id": "5b3c9508",
   "metadata": {},
   "outputs": [
    {
     "name": "stdout",
     "output_type": "stream",
     "text": [
      "{'0': 1024}\n"
     ]
    }
   ],
   "source": [
    "# Let us see the counts\n",
    "print(counts)"
   ]
  },
  {
   "cell_type": "code",
   "execution_count": 10,
   "id": "320fc7f1",
   "metadata": {},
   "outputs": [],
   "source": [
    "# All the tries have turned out to be 1, so the X Gate worked. The input 0 is turned into 1."
   ]
  },
  {
   "cell_type": "code",
   "execution_count": 11,
   "id": "bd6a66b1",
   "metadata": {},
   "outputs": [],
   "source": [
    "# Now let us see the working of this circuit on a real quantum machine.\n",
    "# Note: You need to create an IBMQ account before proceeding.\n",
    "from qiskit import IBMQ\n",
    "\n",
    "# This step is for first time users.\n",
    "# 'IBMQ.save_account(TOKEN)'\n",
    "# For this token, visit https://quantum-computing.ibm.com/ create an account with any email id\n",
    "# and login to view the token and copy it."
   ]
  },
  {
   "cell_type": "code",
   "execution_count": 12,
   "id": "4a7d9ec8",
   "metadata": {},
   "outputs": [
    {
     "name": "stdout",
     "output_type": "stream",
     "text": [
      "['ibmq_qasm_simulator', 'ibmq_lima', 'ibmq_belem', 'ibmq_quito', 'simulator_statevector', 'simulator_mps', 'simulator_extended_stabilizer', 'simulator_stabilizer', 'ibmq_manila', 'ibm_nairobi', 'ibm_oslo']\n"
     ]
    }
   ],
   "source": [
    "# This step is after you have created and saved your account.\n",
    "IBMQ.load_account()\n",
    "\n",
    "# To view all the poviders\n",
    "print([backend.name() for backend in IBMQ.providers()[0].backends()])"
   ]
  },
  {
   "cell_type": "code",
   "execution_count": 13,
   "id": "66407ae3",
   "metadata": {},
   "outputs": [
    {
     "name": "stdout",
     "output_type": "stream",
     "text": [
      "Job Status: job has successfully run\n"
     ]
    }
   ],
   "source": [
    "# We can select any provider, but ibmq_manila will work.\n",
    "from qiskit.tools.monitor import job_monitor\n",
    "provider = IBMQ.get_provider(hub = 'ibm-q',group = 'open',project='main')\n",
    "backend = provider.get_backend('ibmq_lima')\n",
    "job = execute(quantum_circuit, backend=backend, shots=100)\n",
    "job_monitor(job)\n",
    "results = job.result()"
   ]
  },
  {
   "cell_type": "code",
   "execution_count": 15,
   "id": "bdb056bd",
   "metadata": {},
   "outputs": [
    {
     "data": {
      "image/png": "[encoded data removed]",
      "text/plain": [
       "<Figure size 504x360 with 1 Axes>"
      ]
     },
     "execution_count": 15,
     "metadata": {},
     "output_type": "execute_result"
    }
   ],
   "source": [
    "# Plot histogram of the outputs recieved.\n",
    "counts = results.get_counts(quantum_circuit)\n",
    "plot_histogram(counts)"
   ]
  }
 ],
 "metadata": {
  "interpreter": {
   "hash": "37a42aaa31cc67f1bd04bce9cdd9af29f0bea779c6cd9677f08a81b83d4d2488"
  },
  "kernelspec": {
   "display_name": "Python 3 (ipykernel)",
   "language": "python",
   "name": "python3"
  },
  "language_info": {
   "codemirror_mode": {
    "name": "ipython",
    "version": 3
   },
   "file_extension": ".py",
   "mimetype": "text/x-python",
   "name": "python",
   "nbconvert_exporter": "python",
   "pygments_lexer": "ipython3",
   "version": "3.10.5"
  }
 },
 "nbformat": 4,
 "nbformat_minor": 5
}
